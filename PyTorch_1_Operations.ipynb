{
 "cells": [
  {
   "cell_type": "code",
   "execution_count": 1,
   "metadata": {},
   "outputs": [
    {
     "data": {
      "text/plain": [
       "'1.5.1'"
      ]
     },
     "execution_count": 1,
     "metadata": {},
     "output_type": "execute_result"
    }
   ],
   "source": [
    "import torch as to\n",
    "import numpy as np\n",
    "import warnings\n",
    "warnings.filterwarnings('ignore')\n",
    "to.__version__"
   ]
  },
  {
   "cell_type": "code",
   "execution_count": 2,
   "metadata": {},
   "outputs": [
    {
     "name": "stdout",
     "output_type": "stream",
     "text": [
      "<class 'list'>\n",
      "[0, 1, 2, 3, 4, 5, 6, 7, 8, 9]\n"
     ]
    }
   ],
   "source": [
    "lst = list(np.arange(1000))\n",
    "print(type(lst))\n",
    "print(lst[:10])"
   ]
  },
  {
   "cell_type": "code",
   "execution_count": 3,
   "metadata": {},
   "outputs": [
    {
     "name": "stdout",
     "output_type": "stream",
     "text": [
      "<class 'numpy.ndarray'>\n",
      "[0 1 2 3 4 5 6 7 8 9]\n"
     ]
    }
   ],
   "source": [
    "lst = np.array(lst)\n",
    "print(type(lst))\n",
    "print(lst[:10])"
   ]
  },
  {
   "cell_type": "code",
   "execution_count": 4,
   "metadata": {},
   "outputs": [
    {
     "name": "stdout",
     "output_type": "stream",
     "text": [
      "<class 'torch.Tensor'>\n",
      "tensor([0, 1, 2, 3, 4, 5, 6, 7, 8, 9], dtype=torch.int32)\n"
     ]
    }
   ],
   "source": [
    "lst = to.from_numpy(np.arange(10000))\n",
    "print(type(lst))\n",
    "print(lst[:10])"
   ]
  },
  {
   "cell_type": "code",
   "execution_count": 5,
   "metadata": {},
   "outputs": [
    {
     "data": {
      "text/plain": [
       "tensor([  0,   1,   2, 100,   4,   5,   6,   7,   8,   9], dtype=torch.int32)"
      ]
     },
     "execution_count": 5,
     "metadata": {},
     "output_type": "execute_result"
    }
   ],
   "source": [
    "lst[3] = 100\n",
    "lst[:10]"
   ]
  },
  {
   "cell_type": "code",
   "execution_count": 6,
   "metadata": {},
   "outputs": [
    {
     "data": {
      "text/plain": [
       "tensor([  0,   1,   2, 100,   4,   5,   6,   7,   8,   9], dtype=torch.int32)"
      ]
     },
     "execution_count": 6,
     "metadata": {},
     "output_type": "execute_result"
    }
   ],
   "source": [
    "tensor_lst = to.tensor(lst)\n",
    "tensor_lst[:10]"
   ]
  },
  {
   "cell_type": "code",
   "execution_count": 7,
   "metadata": {},
   "outputs": [
    {
     "data": {
      "text/plain": [
       "tensor([ 40,  42,  44,  46,  48,  50,  52,  54,  56,  58,  60,  62,  64,  66,\n",
       "         68,  70,  72,  74,  76,  78,  80,  82,  84,  86,  88,  90,  92,  94,\n",
       "         96,  98, 100, 102, 104, 106, 108, 110, 112, 114, 116, 118, 120, 122,\n",
       "        124, 126, 128, 130, 132, 134, 136, 138, 140, 142, 144, 146, 148, 150,\n",
       "        152, 154, 156, 158, 160, 162, 164, 166, 168, 170, 172, 174, 176, 178,\n",
       "        180, 182, 184, 186, 188, 190, 192, 194, 196, 198, 200, 202, 204, 206,\n",
       "        208, 210, 212, 214, 216, 218])"
      ]
     },
     "execution_count": 7,
     "metadata": {},
     "output_type": "execute_result"
    }
   ],
   "source": [
    "to.arange(10, 100) + to.arange(30, 120)"
   ]
  },
  {
   "cell_type": "code",
   "execution_count": 8,
   "metadata": {},
   "outputs": [
    {
     "data": {
      "text/plain": [
       "tensor([ 8., 10., 12.])"
      ]
     },
     "execution_count": 8,
     "metadata": {},
     "output_type": "execute_result"
    }
   ],
   "source": [
    "a = to.tensor([3, 4, 5], dtype = to.float)\n",
    "b = to.tensor([5, 6, 7], dtype = to.float)\n",
    "\n",
    "to.tensor(a+b)"
   ]
  },
  {
   "cell_type": "code",
   "execution_count": 9,
   "metadata": {},
   "outputs": [
    {
     "name": "stdout",
     "output_type": "stream",
     "text": [
      "tensor([0, 0]) tensor([2, 3])\n"
     ]
    },
    {
     "data": {
      "text/plain": [
       "tensor([2, 3])"
      ]
     },
     "execution_count": 9,
     "metadata": {},
     "output_type": "execute_result"
    }
   ],
   "source": [
    "inputs = to.arange(2, 4)\n",
    "zeros = to.zeros_like(inputs)\n",
    "print(zeros, inputs)\n",
    "zeros + inputs"
   ]
  },
  {
   "cell_type": "code",
   "execution_count": 10,
   "metadata": {
    "scrolled": true
   },
   "outputs": [
    {
     "data": {
      "text/plain": [
       "tensor([[ 1.,  2.,  3.],\n",
       "        [ 4.,  5.,  6.],\n",
       "        [ 7.,  8.,  9.],\n",
       "        [10., 11., 12.],\n",
       "        [13., 14., 15.]], dtype=torch.float64)"
      ]
     },
     "execution_count": 10,
     "metadata": {},
     "output_type": "execute_result"
    }
   ],
   "source": [
    "to.tensor(np.arange(1, 16).reshape(5, 3), dtype=to.float64)"
   ]
  },
  {
   "cell_type": "code",
   "execution_count": 11,
   "metadata": {},
   "outputs": [
    {
     "data": {
      "text/plain": [
       "tensor([ 20,  22,  24,  26,  28,  30,  32,  34,  36,  38,  40,  42,  44,  46,\n",
       "         48,  50,  52,  54,  56,  58,  60,  62,  64,  66,  68,  70,  72,  74,\n",
       "         76,  78,  80,  82,  84,  86,  88,  90,  92,  94,  96,  98, 100, 102,\n",
       "        104, 106, 108, 110, 112, 114, 116, 118, 120, 122, 124, 126, 128, 130,\n",
       "        132, 134, 136, 138, 140, 142, 144, 146, 148, 150, 152, 154, 156, 158,\n",
       "        160, 162, 164, 166, 168, 170, 172, 174, 176, 178, 180, 182, 184, 186,\n",
       "        188, 190, 192, 194, 196, 198])"
      ]
     },
     "execution_count": 11,
     "metadata": {},
     "output_type": "execute_result"
    }
   ],
   "source": [
    "to.add(to.arange(10, 100), to.arange(10, 100))"
   ]
  },
  {
   "cell_type": "code",
   "execution_count": 12,
   "metadata": {},
   "outputs": [
    {
     "name": "stdout",
     "output_type": "stream",
     "text": [
      "tensor([100, 102, 104, 106, 108, 110, 112, 114, 116, 118, 120, 122, 124, 126,\n",
      "        128, 130, 132, 134, 136, 138, 140, 142, 144, 146, 148, 150, 152, 154,\n",
      "        156, 158, 160, 162, 164, 166, 168, 170, 172, 174, 176, 178, 180, 182,\n",
      "        184, 186, 188, 190, 192, 194, 196, 198, 200, 202, 204, 206, 208, 210,\n",
      "        212, 214, 216, 218, 220, 222, 224, 226, 228, 230, 232, 234, 236, 238,\n",
      "        240, 242, 244, 246, 248, 250, 252, 254, 256, 258, 260, 262, 264, 266,\n",
      "        268, 270, 272, 274, 276, 278, 280, 282, 284, 286, 288, 290, 292, 294,\n",
      "        296, 298])\n"
     ]
    }
   ],
   "source": [
    "c = to.zeros(100, dtype=to.int64)\n",
    "a = to.arange(0, 100, dtype=to.int64)\n",
    "b = to.arange(100, 200, dtype=to.int64)\n",
    "\n",
    "to.add(a, b, out=c)\n",
    "print(c)"
   ]
  },
  {
   "cell_type": "code",
   "execution_count": 13,
   "metadata": {},
   "outputs": [
    {
     "data": {
      "text/plain": [
       "torch.Tensor"
      ]
     },
     "execution_count": 13,
     "metadata": {},
     "output_type": "execute_result"
    }
   ],
   "source": [
    "a = to.arange(0, 100, dtype=to.int64)\n",
    "b = to.arange(100, 200, dtype=to.int64)\n",
    "\n",
    "type(a+b)"
   ]
  },
  {
   "cell_type": "code",
   "execution_count": 14,
   "metadata": {},
   "outputs": [
    {
     "name": "stdout",
     "output_type": "stream",
     "text": [
      "tensor([10, 12, 14, 16, 18, 20, 22, 24, 26, 28])\n",
      "tensor(190)\n"
     ]
    }
   ],
   "source": [
    "a = to.arange(0, 10, dtype=to.int64)\n",
    "b = to.arange(10, 20, dtype=to.int64)\n",
    "\n",
    "print(to.add(a, b))\n",
    "print(to.add(a, b).sum())"
   ]
  },
  {
   "cell_type": "code",
   "execution_count": 15,
   "metadata": {},
   "outputs": [
    {
     "data": {
      "text/plain": [
       "tensor([1, 2, 3, 4, 5])"
      ]
     },
     "execution_count": 15,
     "metadata": {},
     "output_type": "execute_result"
    }
   ],
   "source": [
    "to.arange(1, 6)"
   ]
  },
  {
   "cell_type": "code",
   "execution_count": 16,
   "metadata": {},
   "outputs": [
    {
     "name": "stdout",
     "output_type": "stream",
     "text": [
      "tensor(3)\n"
     ]
    }
   ],
   "source": [
    "print(to.arange(1, 6).median())"
   ]
  },
  {
   "cell_type": "code",
   "execution_count": 17,
   "metadata": {},
   "outputs": [
    {
     "name": "stdout",
     "output_type": "stream",
     "text": [
      "tensor([[17,  7, 15],\n",
      "        [14,  2, 13],\n",
      "        [10,  5,  9]])\n"
     ]
    }
   ],
   "source": [
    "a = to.randint(1, 10, (3, 3))\n",
    "b = to.randint(1, 10, (3, 3))\n",
    "\n",
    "print(a+b)"
   ]
  },
  {
   "cell_type": "code",
   "execution_count": 18,
   "metadata": {},
   "outputs": [
    {
     "data": {
      "text/plain": [
       "tensor([[0.0640, 0.5910],\n",
       "        [0.0733, 0.0776],\n",
       "        [0.7862, 0.3468],\n",
       "        [0.8536, 0.3969],\n",
       "        [0.5404, 0.8151],\n",
       "        [0.8408, 0.6895],\n",
       "        [0.8103, 0.5461],\n",
       "        [0.2229, 0.6918],\n",
       "        [0.0800, 0.7220],\n",
       "        [0.6588, 0.7293]])"
      ]
     },
     "execution_count": 18,
     "metadata": {},
     "output_type": "execute_result"
    }
   ],
   "source": [
    "to.rand(10, 2) ## r, c"
   ]
  },
  {
   "cell_type": "code",
   "execution_count": 19,
   "metadata": {},
   "outputs": [
    {
     "data": {
      "text/plain": [
       "(tensor([[9, 6, 9],\n",
       "         [7, 1, 5],\n",
       "         [6, 2, 6]]),\n",
       " tensor([[8, 1, 6],\n",
       "         [7, 1, 8],\n",
       "         [4, 3, 3]]))"
      ]
     },
     "execution_count": 19,
     "metadata": {},
     "output_type": "execute_result"
    }
   ],
   "source": [
    "a, b"
   ]
  },
  {
   "cell_type": "code",
   "execution_count": 20,
   "metadata": {},
   "outputs": [
    {
     "name": "stdout",
     "output_type": "stream",
     "text": [
      "tensor([[72,  6, 54],\n",
      "        [49,  1, 40],\n",
      "        [24,  6, 18]])\n"
     ]
    }
   ],
   "source": [
    "print(a.mul(b))"
   ]
  },
  {
   "cell_type": "code",
   "execution_count": 21,
   "metadata": {},
   "outputs": [
    {
     "data": {
      "text/plain": [
       "(tensor([[9, 6, 9],\n",
       "         [7, 1, 5],\n",
       "         [6, 2, 6]]),\n",
       " tensor([[8, 1, 6],\n",
       "         [7, 1, 8],\n",
       "         [4, 3, 3]]))"
      ]
     },
     "execution_count": 21,
     "metadata": {},
     "output_type": "execute_result"
    }
   ],
   "source": [
    "a, b"
   ]
  },
  {
   "cell_type": "code",
   "execution_count": 22,
   "metadata": {},
   "outputs": [
    {
     "name": "stdout",
     "output_type": "stream",
     "text": [
      "tensor([[9, 7, 6],\n",
      "        [6, 1, 2],\n",
      "        [9, 5, 6]])\n",
      "tensor([[8, 7, 4],\n",
      "        [1, 1, 3],\n",
      "        [6, 8, 3]])\n"
     ]
    }
   ],
   "source": [
    "print(a.T) ### Transpose a\n",
    "print(b.T) ### Transpose b"
   ]
  },
  {
   "cell_type": "code",
   "execution_count": 23,
   "metadata": {},
   "outputs": [
    {
     "data": {
      "text/plain": [
       "(tensor([1, 2, 3]), tensor([2, 3, 4]))"
      ]
     },
     "execution_count": 23,
     "metadata": {},
     "output_type": "execute_result"
    }
   ],
   "source": [
    "a = to.arange(1, 4)\n",
    "b = to.arange(2, 5)\n",
    "\n",
    "a, b"
   ]
  },
  {
   "cell_type": "code",
   "execution_count": 24,
   "metadata": {},
   "outputs": [
    {
     "data": {
      "text/plain": [
       "tensor(20)"
      ]
     },
     "execution_count": 24,
     "metadata": {},
     "output_type": "execute_result"
    }
   ],
   "source": [
    "a.dot(b)"
   ]
  },
  {
   "cell_type": "markdown",
   "metadata": {},
   "source": [
    "### Matrix Multiplication"
   ]
  },
  {
   "cell_type": "code",
   "execution_count": 25,
   "metadata": {},
   "outputs": [
    {
     "data": {
      "text/plain": [
       "(tensor([[1, 2, 3],\n",
       "         [1, 2, 3]]),\n",
       " tensor([[1, 2, 3],\n",
       "         [1, 2, 3]]))"
      ]
     },
     "execution_count": 25,
     "metadata": {},
     "output_type": "execute_result"
    }
   ],
   "source": [
    "a = to.tensor([[1, 2, 3], [1, 2, 3]], dtype=to.int64)\n",
    "b = to.tensor([[1, 2, 3], [1, 2, 3]], dtype=to.int64)\n",
    "\n",
    "a, b"
   ]
  },
  {
   "cell_type": "code",
   "execution_count": 26,
   "metadata": {},
   "outputs": [
    {
     "data": {
      "text/plain": [
       "tensor([[1, 4, 9],\n",
       "        [1, 4, 9]])"
      ]
     },
     "execution_count": 26,
     "metadata": {},
     "output_type": "execute_result"
    }
   ],
   "source": [
    "a*b"
   ]
  },
  {
   "cell_type": "code",
   "execution_count": 27,
   "metadata": {},
   "outputs": [
    {
     "data": {
      "text/plain": [
       "tensor([[1, 4, 9],\n",
       "        [1, 4, 9]])"
      ]
     },
     "execution_count": 27,
     "metadata": {},
     "output_type": "execute_result"
    }
   ],
   "source": [
    "to.mul(a, b)"
   ]
  },
  {
   "cell_type": "code",
   "execution_count": 28,
   "metadata": {},
   "outputs": [
    {
     "data": {
      "text/plain": [
       "(tensor([[1, 2, 3],\n",
       "         [1, 2, 3]]),\n",
       " tensor([[1, 2],\n",
       "         [3, 1],\n",
       "         [2, 3]]))"
      ]
     },
     "execution_count": 28,
     "metadata": {},
     "output_type": "execute_result"
    }
   ],
   "source": [
    "a, b.reshape(3, 2)"
   ]
  },
  {
   "cell_type": "code",
   "execution_count": 29,
   "metadata": {},
   "outputs": [
    {
     "data": {
      "text/plain": [
       "tensor([[13, 13],\n",
       "        [13, 13]])"
      ]
     },
     "execution_count": 29,
     "metadata": {},
     "output_type": "execute_result"
    }
   ],
   "source": [
    "to.matmul(a, b.reshape(3, 2))"
   ]
  },
  {
   "cell_type": "code",
   "execution_count": 30,
   "metadata": {},
   "outputs": [
    {
     "data": {
      "text/plain": [
       "tensor([[13, 13],\n",
       "        [13, 13]])"
      ]
     },
     "execution_count": 30,
     "metadata": {},
     "output_type": "execute_result"
    }
   ],
   "source": [
    "to.mm(a, b.reshape(3, 2))"
   ]
  },
  {
   "cell_type": "code",
   "execution_count": null,
   "metadata": {},
   "outputs": [],
   "source": []
  },
  {
   "cell_type": "code",
   "execution_count": null,
   "metadata": {},
   "outputs": [],
   "source": []
  }
 ],
 "metadata": {
  "kernelspec": {
   "display_name": "Python 3",
   "language": "python",
   "name": "python3"
  },
  "language_info": {
   "codemirror_mode": {
    "name": "ipython",
    "version": 3
   },
   "file_extension": ".py",
   "mimetype": "text/x-python",
   "name": "python",
   "nbconvert_exporter": "python",
   "pygments_lexer": "ipython3",
   "version": "3.7.7"
  }
 },
 "nbformat": 4,
 "nbformat_minor": 4
}
